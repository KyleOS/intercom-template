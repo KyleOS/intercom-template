{
 "cells": [
  {
   "cell_type": "markdown",
   "metadata": {},
   "source": [
    "## Kyso Intercom Template\n",
    "\n",
    "\n",
    "### Create application on intercom workspace\n",
    "\n",
    "Below we are importing our required libraries. We are using environment variables for improved security and smoother workflows. Follow [this guide](https://developers.intercom.com/building-apps/docs/get-started-developing-on-intercom). You will need to create an App on your Intercom workspace. Apps are like containers for the various functionality that you have access to on the Intercom Platform and each App can be managed and installed to your other Intercom workspaces independently. \n",
    "\n",
    "\n",
    "Once you have your App up & running you should be able to retrieve your Access Token. DO NOT simply copy and paste the token below. Instead, open up your bash_profile and save your token there. Don't forget to *source* the file before running the cell below."
   ]
  },
  {
   "cell_type": "code",
   "execution_count": 32,
   "metadata": {},
   "outputs": [],
   "source": [
    "import os\n",
    "import requests\n",
    "import pandas as pd\n",
    "import json\n",
    "KEY = os.environ['INTERCOM_ACCESS_TOKEN']"
   ]
  },
  {
   "cell_type": "markdown",
   "metadata": {},
   "source": [
    "### Fetching the data\n",
    "\n",
    "Now we need to access the Intercom API. You can find their API reference [here](https://developers.intercom.com/intercom-api-reference/reference#introduction). Unfortunately no examples are available in python. But we've done the work below. We start by fetching the users and returning a JSON response."
   ]
  },
  {
   "cell_type": "code",
   "execution_count": 34,
   "metadata": {},
   "outputs": [],
   "source": [
    "def get_users_page(per_page = 150, starting_after = None):\n",
    "    url = 'https://api.intercom.io/contacts?per_page=%s' % (per_page)\n",
    "    if starting_after:\n",
    "        url += '&starting_after=%s' % (starting_after)\n",
    "            \n",
    "    resp = requests.get(url, headers={ 'Authorization':'Bearer %s' % KEY})\n",
    "    return resp.json()\n",
    "    \n",
    "def get_users():\n",
    "    first_page = get_users_page()\n",
    "    pagination = first_page['pages']    \n",
    "    _next = pagination['next']['starting_after']\n",
    "    \n",
    "    data = first_page['data']\n",
    "    \n",
    "    while _next:\n",
    "        page = get_users_page(starting_after=_next)\n",
    "        pagination = page['pages']\n",
    "        if 'next' in pagination:\n",
    "            _next = pagination['next']['starting_after']\n",
    "        else:\n",
    "            _next = False\n",
    "            \n",
    "        data.extend(page['data'])\n",
    "    return data\n",
    "\n",
    "user_data = get_users()"
   ]
  },
  {
   "cell_type": "markdown",
   "metadata": {},
   "source": [
    "### Caching our data\n",
    "\n",
    "Now we can convert all this JSON to pandas dataframes, which will make it much easier to manipulate and graph the data. Let's save everything to cache files so we dont need to download all the time. This is also handy to save data for APIs that have historical limits."
   ]
  },
  {
   "cell_type": "code",
   "execution_count": 35,
   "metadata": {},
   "outputs": [],
   "source": [
    "users = pd.DataFrame(user_data)\n",
    "dict_col = users.pop('custom_attributes')\n",
    "users = pd.concat([users, dict_col.apply(pd.Series)], axis=1)\n",
    "users.to_json('./data/users.json')"
   ]
  },
  {
   "cell_type": "markdown",
   "metadata": {},
   "source": [
    "### Fetching Company Data\n",
    "\n",
    "Now we're doing the same as we did above, except this time for company-wide data."
   ]
  },
  {
   "cell_type": "code",
   "execution_count": 5,
   "metadata": {},
   "outputs": [],
   "source": [
    "def get_companies_page(url='https://api.intercom.io/companies'):\n",
    "    resp = requests.get(url, headers={ 'Authorization':'Bearer %s' % KEY})\n",
    "    return resp.json()\n",
    "    \n",
    "def get_companies():\n",
    "    first_page = get_companies_page()\n",
    "#     print(json.dumps(first_page, indent=2))\n",
    "    pagination = first_page['pages']\n",
    "    next_url = pagination['next']\n",
    "    \n",
    "    data = first_page['data']\n",
    "    \n",
    "    while next_url:\n",
    "        page = get_companies_page(url=next_url)\n",
    "        pagination = page['pages']\n",
    "        if 'next' in pagination:\n",
    "            next_url = pagination['next']\n",
    "        else:\n",
    "            next_url = False\n",
    "            \n",
    "        data.extend(page['data'])\n",
    "\n",
    "    return data\n",
    "\n",
    "company_data = get_companies()"
   ]
  },
  {
   "cell_type": "markdown",
   "metadata": {},
   "source": [
    "And caching this data..."
   ]
  },
  {
   "cell_type": "code",
   "execution_count": 6,
   "metadata": {},
   "outputs": [],
   "source": [
    "companies = pd.DataFrame(company_data)\n",
    "companies.to_json('./data/companies.json')"
   ]
  },
  {
   "cell_type": "markdown",
   "metadata": {},
   "source": [
    "And again for conversation and messaging data.."
   ]
  },
  {
   "cell_type": "code",
   "execution_count": 7,
   "metadata": {},
   "outputs": [],
   "source": [
    "def get_conversations_page(url='https://api.intercom.io/conversations?order=desc&sort=updated_at'):\n",
    "    resp = requests.get(url, headers={ 'Authorization':'Bearer %s' % KEY})\n",
    "    return resp.json()\n",
    "    \n",
    "def get_conversations():\n",
    "    first_page = get_conversations_page()\n",
    "    pagination = first_page['pages']\n",
    "    next_url = pagination['next']\n",
    "    \n",
    "    data = first_page['conversations']\n",
    "    \n",
    "    while next_url:\n",
    "        page = get_conversations_page(url=next_url)\n",
    "        pagination = page['pages']\n",
    "        if 'next' in pagination:\n",
    "            next_url = pagination['next']\n",
    "        else:\n",
    "            next_url = False\n",
    "            \n",
    "        data.extend(page['conversations'])\n",
    "\n",
    "    return data\n",
    "\n",
    "conversations_data = get_conversations()"
   ]
  },
  {
   "cell_type": "code",
   "execution_count": 8,
   "metadata": {},
   "outputs": [],
   "source": [
    "conversations = pd.DataFrame(conversations_data)\n",
    "conversations.to_json('./data/conversations.json')"
   ]
  }
 ],
 "metadata": {
  "kernelspec": {
   "display_name": "Python 3",
   "language": "python",
   "name": "python3"
  },
  "language_info": {
   "codemirror_mode": {
    "name": "ipython",
    "version": 3
   },
   "file_extension": ".py",
   "mimetype": "text/x-python",
   "name": "python",
   "nbconvert_exporter": "python",
   "pygments_lexer": "ipython3",
   "version": "3.8.2"
  }
 },
 "nbformat": 4,
 "nbformat_minor": 4
}
